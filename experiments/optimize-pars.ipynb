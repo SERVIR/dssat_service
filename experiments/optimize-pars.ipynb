{
 "cells": [
  {
   "cell_type": "markdown",
   "id": "6eacb2fe",
   "metadata": {},
   "source": [
    "Management won't be random. Cultivars will be caracterized according to their maturity tipe and their yield potential based on DSSAT parameters. q parameter is removed from the calibration. All high yield counties."
   ]
  },
  {
   "cell_type": "code",
   "execution_count": 1,
   "id": "925f04f1",
   "metadata": {},
   "outputs": [],
   "source": [
    "import sys\n",
    "sys.path.append(\"/home/dquintero/spatialDSSAT\")\n",
    "from spatialDSSAT.run import GSRun\n",
    "sys.path.append(\"/home/dquintero/venvs/serviceDSSAT/lib/python3.10/site-packages\")\n",
    "sys.path.append(\"/home/dquintero/dssat_service/regional_service\")\n",
    "from dssat import run_spatial_dssat"
   ]
  },
  {
   "cell_type": "code",
   "execution_count": 2,
   "id": "03a5332f",
   "metadata": {},
   "outputs": [],
   "source": [
    "import pickle\n",
    "import numpy as np\n",
    "import pandas as pd\n",
    "\n",
    "from scipy import stats\n",
    "\n",
    "import matplotlib as mpl\n",
    "import seaborn as sns\n",
    "from matplotlib import pyplot as plt\n",
    "\n",
    "from datetime import datetime, timedelta\n",
    "from multiprocessing import Pool\n",
    "from itertools import product\n",
    "import time\n",
    "import os\n",
    "from tqdm.notebook import tqdm"
   ]
  },
  {
   "cell_type": "code",
   "execution_count": 9,
   "id": "07c7a2ef",
   "metadata": {},
   "outputs": [],
   "source": [
    "CULTIVARS = [\n",
    "    'IF0001', 'IF0002', 'IF0003', 'IF0004', 'IF0005', 'IF0006', 'IF0007', \n",
    "    'IF0008', 'IF0009', 'IF0010', 'IF0011', 'IM0001', 'IM0002', 'IM0003', \n",
    "    'IF0018', 'IF0019', 'IF0020', 'IF0021', 'IF0022', 'IB0067', 'KA0001', \n",
    "    'EM0001', 'KY0001', 'KY0002', 'KY0003', 'KY0004', 'KY0005', 'KY0006', \n",
    "    'KY0007', 'KY0008', 'KY0009', 'KY0010', 'KY0011', 'KY0012', 'KY0013', \n",
    "    'KY0014', 'KY0015', 'KY0016', 'KY0017', 'KY0018', 'GH0010'\n",
    "]\n",
    "ADMIN1_LIST = [\n",
    "    'Trans Nzoia', 'Bungoma', 'Uasin Gishu', 'Nandi', 'Kakamega', 'Kisii','Nakuru', 'Siaya', 'Migori', \n",
    "    'Narok', 'Nyamira', 'Meru', 'Kericho','Bomet',\n",
    "    'Makueni'\n",
    "]\n",
    "DBNAME = \"dssatserv\"\n",
    "obs = pd.read_csv(\"~/dssat_service/fewsnet_data/kenya_shortRains_maize.csv\")\n",
    "obs = obs.loc[obs.year > 2010]"
   ]
  },
  {
   "cell_type": "code",
   "execution_count": 18,
   "id": "4b20a2cc",
   "metadata": {},
   "outputs": [],
   "source": [
    "def get_dssat_inputs(admin1, year):\n",
    "    inputs = run_spatial_dssat(\n",
    "        dbname=DBNAME, \n",
    "        schema=\"kenya\", \n",
    "        admin1=admin1,\n",
    "        plantingdate=datetime(year, 3, 1),\n",
    "        cultivar=CULTIVARS[0],\n",
    "        nitrogen=[(5, 15), (30, 15), (60, 15)],\n",
    "        # overview=True,\n",
    "        all_random=False,\n",
    "        return_input=True\n",
    "    )\n",
    "    return inputs"
   ]
  },
  {
   "cell_type": "code",
   "execution_count": 16,
   "id": "54c3140a",
   "metadata": {},
   "outputs": [
    {
     "name": "stderr",
     "output_type": "stream",
     "text": [
      "100%|████████████████████████████████████████████████████████████████████████████████████████████████████████████████████████████████████████████████████████████████| 27/27 [00:01<00:00, 17.76it/s]\n",
      "100%|████████████████████████████████████████████████████████████████████████████████████████████████████████████████████████████████████████████████████████████████| 27/27 [00:01<00:00, 16.86it/s]\n",
      "100%|████████████████████████████████████████████████████████████████████████████████████████████████████████████████████████████████████████████████████████████████| 27/27 [00:01<00:00, 17.29it/s]\n",
      "100%|████████████████████████████████████████████████████████████████████████████████████████████████████████████████████████████████████████████████████████████████| 27/27 [00:01<00:00, 17.07it/s]\n",
      "100%|████████████████████████████████████████████████████████████████████████████████████████████████████████████████████████████████████████████████████████████████| 27/27 [00:01<00:00, 14.77it/s]\n",
      "100%|████████████████████████████████████████████████████████████████████████████████████████████████████████████████████████████████████████████████████████████████| 27/27 [00:01<00:00, 17.28it/s]\n",
      "100%|████████████████████████████████████████████████████████████████████████████████████████████████████████████████████████████████████████████████████████████████| 27/27 [00:01<00:00, 17.34it/s]\n"
     ]
    }
   ],
   "source": [
    "# Get inputs for all years\n",
    "admin1 = ADMIN1_LIST[1]\n",
    "inputs_dict = {}\n",
    "for _, row, in obs.loc[obs.admin_1 == admin1].iterrows():\n",
    "    inputs_dict[row.year] = get_dssat_inputs(admin1, row.year)"
   ]
  },
  {
   "cell_type": "code",
   "execution_count": 41,
   "id": "604a5f36",
   "metadata": {},
   "outputs": [],
   "source": [
    "def run_single(admin1, fertilizer, cultivar, plantingdate, inputs):\n",
    "    fertilizer = int(fertilizer)\n",
    "    fertilizer = int(fertilizer/3)\n",
    "    nitro = [(0, fertilizer), (30, fertilizer), (60, fertilizer)]\n",
    "    gs = GSRun()\n",
    "    for (_, wth), (_, sol) in inputs:\n",
    "        gs.add_treatment(\n",
    "            soil_profile=sol,\n",
    "            weather=wth,\n",
    "            nitrogen=nitro,\n",
    "            planting=plantingdate,\n",
    "            cultivar=cultivar\n",
    "        )\n",
    "    planting_window_start = plantingdate - timedelta(days=15)\n",
    "    planting_window_end = plantingdate + timedelta(days=15)\n",
    "    sim_controls = {\n",
    "        \"PLANT\": \"F\", # Automatic, force in last day of window\n",
    "        \"PFRST\": planting_window_start.strftime(\"%y%j\"),\n",
    "        \"PLAST\": planting_window_end.strftime(\"%y%j\"),\n",
    "        \"PH2OL\": 50, \"PH2OU\": 100, \"PH2OD\": 20, \n",
    "        \"PSTMX\": 40, \"PSTMN\": 10\n",
    "    }\n",
    "    df = gs.run(\n",
    "        start_date=plantingdate - timedelta(30),\n",
    "        sim_controls=sim_controls\n",
    "    )\n",
    "    return df"
   ]
  },
  {
   "cell_type": "code",
   "execution_count": 42,
   "id": "7a7a49f4",
   "metadata": {},
   "outputs": [],
   "source": [
    "def calculate_mse(admin1, fertilizer, cultivar):\n",
    "    residuals = []\n",
    "    for _, row in obs.loc[obs.admin_1 == admin1].iterrows():\n",
    "        plantingdate = datetime(row.year, 4, 1)\n",
    "        df = run_single(admin1, fertilizer, cultivar, plantingdate, inputs_dict[row.year])\n",
    "        residuals.append(df.HARWT.astype(int).median()/1000 - row.value)\n",
    "    return sum([r**2 for r in residuals])"
   ]
  },
  {
   "cell_type": "code",
   "execution_count": 43,
   "id": "e20daeba",
   "metadata": {},
   "outputs": [
    {
     "data": {
      "text/plain": [
       "6.13453416528559"
      ]
     },
     "execution_count": 43,
     "metadata": {},
     "output_type": "execute_result"
    }
   ],
   "source": [
    "calculate_mse(admin1, 50, CULTIVARS[0])"
   ]
  },
  {
   "cell_type": "code",
   "execution_count": 61,
   "id": "7cbc4655",
   "metadata": {},
   "outputs": [],
   "source": [
    "from scipy.optimize import minimize_scalar\n",
    "def optimize_nitrogen(admin1, cultivar):\n",
    "    res = minimize_scalar(\n",
    "        fun=lambda x: calculate_mse(admin1, x, cultivar),\n",
    "        bounds=(0, 200),\n",
    "        options={\"maxiter\": 10, \"disp\": 3, \"xatol\": 5}\n",
    "    )\n",
    "    return res.x"
   ]
  },
  {
   "cell_type": "code",
   "execution_count": 62,
   "id": "d3fb30f7",
   "metadata": {},
   "outputs": [
    {
     "name": "stdout",
     "output_type": "stream",
     "text": [
      " \n",
      " Func-count     x          f(x)          Procedure\n",
      "    1        76.3932      39.6086        initial\n",
      "    2        123.607       148.59        golden\n",
      "    3        47.2136      4.61162        golden\n",
      "    4        20.4905      9.35478        parabolic\n",
      "    5        37.4553      3.06314        parabolic\n",
      "    6        39.1219      3.12046        parabolic\n",
      "    7        35.7886      3.33453        parabolic\n",
      "\n",
      "Optimization terminated successfully;\n",
      "The returned value satisfies the termination criteria\n",
      "(using xtol =  5 )\n"
     ]
    }
   ],
   "source": [
    "cultivar = CULTIVARS[0]\n",
    "nitro = optimize_nitrogen(admin1, cultivar)"
   ]
  },
  {
   "cell_type": "code",
   "execution_count": 63,
   "id": "4077dfef",
   "metadata": {},
   "outputs": [
    {
     "data": {
      "text/plain": [
       "37.455280335329675"
      ]
     },
     "execution_count": 63,
     "metadata": {},
     "output_type": "execute_result"
    }
   ],
   "source": [
    "nitro"
   ]
  },
  {
   "cell_type": "code",
   "execution_count": 69,
   "id": "d44bb03f",
   "metadata": {},
   "outputs": [
    {
     "name": "stdout",
     "output_type": "stream",
     "text": [
      " \n",
      " Func-count     x          f(x)          Procedure\n",
      "    1        76.3932      39.6086        initial\n",
      "    2        123.607       148.59        golden\n",
      "    3        47.2136      4.61162        golden\n",
      "    4        20.4905      9.35478        parabolic\n",
      "    5        37.4553      3.06314        parabolic\n",
      "    6        39.1219      3.12046        parabolic\n",
      "    7        35.7886      3.33453        parabolic\n",
      "\n",
      "Optimization terminated successfully;\n",
      "The returned value satisfies the termination criteria\n",
      "(using xtol =  5 )\n",
      "('Bungoma', 'IF0001', 37.455280335329675, 3, 0.026667720265396024, 0.9547435684403146, -0.42386791428571424, 0.821679162857143, 0.821679162857143)\n",
      "('Bungoma', 'IF0001', 37.455280335329675, 4, -0.3752883108881727, 0.4067920005779302, -0.10401077142857147, 0.46965152857142856, 0.46965152857142856)\n",
      "('Bungoma', 'IF0001', 37.455280335329675, 5, -0.06872174432856945, 0.8836096352914243, 0.1808463714285715, 0.5192505914285713, 0.5192505914285713)\n",
      " \n",
      " Func-count     x          f(x)          Procedure\n",
      "    1        76.3932      43.6068        initial\n",
      "    2        123.607       150.74        golden\n",
      "    3        47.2136      5.09179        golden\n",
      "    4        29.1796      4.94908        golden\n",
      "    5        38.0542      3.12056        parabolic\n",
      "    6        36.3876      3.12056        parabolic\n",
      "    7        34.7209      3.24718        parabolic\n",
      "\n",
      "Optimization terminated successfully;\n",
      "The returned value satisfies the termination criteria\n",
      "(using xtol =  5 )\n",
      "('Bungoma', 'IF0002', 36.38755139300336, 3, 0.02202957796613008, 0.9626105010524907, -0.40215362857142856, 0.8742505914285713, 0.8742505914285713)\n",
      "('Bungoma', 'IF0002', 36.38755139300336, 4, -0.4210140789477775, 0.34688705161738304, -0.06686791428571429, 0.4827943857142857, 0.4827943857142857)\n",
      "('Bungoma', 'IF0002', 36.38755139300336, 5, -0.024048520033903828, 0.9591857688638882, 0.27156065714285715, 0.5476791628571428, 0.5476791628571428)\n",
      " \n",
      " Func-count     x          f(x)          Procedure\n",
      "    1        76.3932      22.0227        initial\n",
      "    2        123.607       137.51        golden\n",
      "    3        47.2136      2.90218        golden\n",
      "    4        48.8803      2.98449        parabolic\n",
      "    5        45.5469      2.90218        parabolic\n",
      "    6        28.1495      8.03447        golden\n",
      "    7        43.8803      3.01956        parabolic\n",
      "\n",
      "Optimization terminated successfully;\n",
      "The returned value satisfies the termination criteria\n",
      "(using xtol =  5 )\n",
      "('Bungoma', 'IF0003', 45.54692813300048, 3, -0.019190114093447053, 0.9674278487820896, -0.3080107714285714, 0.9186791628571428, 0.9186791628571428)\n",
      "('Bungoma', 'IF0003', 45.54692813300048, 4, -0.2468968550934481, 0.5935123416015439, -0.08086791428571427, 0.4739372428571428, 0.4739372428571428)\n",
      "('Bungoma', 'IF0003', 45.54692813300048, 5, 0.30419521502304536, 0.5071400562870825, 0.2854178000000001, 0.5106791628571429, 0.5106791628571429)\n",
      " \n",
      " Func-count     x          f(x)          Procedure\n",
      "    1        76.3932      34.5742        initial\n",
      "    2        123.607      145.871        golden\n",
      "    3        47.2136      3.90625        golden\n",
      "    4        31.0717      4.97633        parabolic\n",
      "    5        40.4872       3.2262        parabolic\n",
      "    6        42.1538      3.36327        parabolic\n",
      "    7        36.8908      3.47125        golden\n",
      "    8        38.8205      3.47125        parabolic\n",
      "\n",
      "Optimization terminated successfully;\n",
      "The returned value satisfies the termination criteria\n",
      "(using xtol =  5 )\n",
      "('Bungoma', 'IF0004', 40.48716591992509, 3, 0.008456295337359601, 0.985644660446357, -0.3830107714285714, 0.8951077342857143, 0.8951077342857143)\n",
      "('Bungoma', 'IF0004', 40.48716591992509, 4, -0.40968192462435565, 0.36136795576087566, -0.09472505714285699, 0.4869372428571429, 0.4869372428571429)\n",
      "('Bungoma', 'IF0004', 40.48716591992509, 5, 0.10290896048845667, 0.8262199294561536, 0.24541779999999994, 0.5115363057142857, 0.5115363057142857)\n",
      " \n",
      " Func-count     x          f(x)          Procedure\n",
      "    1        76.3932      33.5926        initial\n",
      "    2        123.607      148.247        golden\n",
      "    3        47.2136      3.05681        golden\n",
      "    4        32.8788       5.3591        parabolic\n",
      "    5        42.9411      2.83484        parabolic\n",
      "    6        44.6078      2.83484        parabolic\n",
      "\n",
      "Optimization terminated successfully;\n",
      "The returned value satisfies the termination criteria\n",
      "(using xtol =  5 )\n",
      "('Bungoma', 'IF0005', 44.607771525613636, 3, -0.027076405293134154, 0.9540505145707894, -0.3417250571428571, 0.9452505914285714, 0.9452505914285714)\n",
      "('Bungoma', 'IF0005', 44.607771525613636, 4, -0.26519950338021103, 0.565446933776493, -0.052296485714285676, 0.47496487714285707, 0.47496487714285707)\n",
      "('Bungoma', 'IF0005', 44.607771525613636, 5, 0.3333786366569433, 0.4649581858645217, 0.3134177999999999, 0.5186791628571428, 0.5186791628571428)\n"
     ]
    }
   ],
   "source": [
    "from scipy.stats import pearsonr\n",
    "records = []\n",
    "# admin1 = ADMIN1_LIST[1]\n",
    "for cultivar in CULTIVARS[:5]:\n",
    "    nitro = optimize_nitrogen(admin1, cultivar)\n",
    "    for month in range(3, 6):\n",
    "        sim_yield = []\n",
    "        for _, row in obs.loc[obs.admin_1 == admin1].iterrows():\n",
    "            plantingdate = datetime(row.year, month, 1)\n",
    "            df = run_single(admin1, nitro, cultivar, plantingdate, inputs_dict[row.year])\n",
    "            sim_yield.append(df.HARWT.astype(int).median()/1000)\n",
    "        obs_yield = obs.loc[obs.admin_1 == admin1, \"value\"].values\n",
    "        r, p =pearsonr(sim_yield, obs_yield)\n",
    "        me = (np.array(sim_yield) - obs_yield).mean()\n",
    "        mae = abs(obs_yield - np.array(sim_yield)).mean()\n",
    "        rmse = np.sqrt((obs_yield - np.array(sim_yield))**2).mean()\n",
    "        records.append((\n",
    "            admin1, cultivar, nitro, month, r, p, me, mae, rmse\n",
    "        ))\n",
    "        print(records[-1])"
   ]
  },
  {
   "cell_type": "code",
   "execution_count": 83,
   "id": "a1625501",
   "metadata": {},
   "outputs": [
    {
     "name": "stdout",
     "output_type": "stream",
     "text": [
      "Bungoma\tIF0005\t44.6\t5\t0.3\t0.465\t0.313\t0.519\t0.519\n"
     ]
    }
   ],
   "source": [
    "print(\"{0}\\t{1}\\t{2:>.1f}\\t{3:>}\\t{4:>.1f}\\t{5:>.3f}\\t{6:>.3f}\\t{7:>.3f}\\t{8:>.3f}\".format(*records[-1]))"
   ]
  },
  {
   "cell_type": "code",
   "execution_count": 24,
   "id": "c96c91cd",
   "metadata": {},
   "outputs": [
    {
     "data": {
      "text/plain": [
       "'/tmp/tmpvatufzz4/WS262001.WTH'"
      ]
     },
     "execution_count": 24,
     "metadata": {},
     "output_type": "execute_result"
    }
   ],
   "source": [
    "wth"
   ]
  },
  {
   "cell_type": "code",
   "execution_count": 9,
   "id": "629134eb",
   "metadata": {},
   "outputs": [
    {
     "data": {
      "text/plain": [
       "27"
      ]
     },
     "execution_count": 9,
     "metadata": {},
     "output_type": "execute_result"
    }
   ],
   "source": [
    "len(inputs)"
   ]
  },
  {
   "cell_type": "code",
   "execution_count": 14,
   "id": "ad13398b",
   "metadata": {},
   "outputs": [
    {
     "data": {
      "text/plain": [
       "(((34.958, 0.792), '/tmp/tmpsqlpzxm0/WS002001.WTH'),\n",
       " ((34.958, 0.792),\n",
       "  '*KE04624979    KEN   SandClayL   200    ISRIC soilgrids + HC27                                                                                                                                          \\n@SITE        COUNTRY          LAT     LONG SCS Family                                                                                                                                                   \\n -99              KE        0.792   34.958     HC_GEN0011                                                                                                                                               \\n@ SCOM  SALB  SLU1  SLDR  SLRO  SLNF  SLPF  SMHB  SMPX  SMKE                                                                                                                                            \\n    BK  0.10  6.00  0.50 75.00  1.00  1.00 SA001 SA001 SA001                                                                                                                                            \\n@  SLB  SLMH  SLLL  SDUL  SSAT  SRGF  SSKS  SBDM  SLOC  SLCL  SLSI  SLCF  SLNI  SLHW  SLHB  SCEC  SADC                                                                                                  \\n     5 A     0.249 0.377 0.451  1.00  0.10  1.17  1.80 41.76 25.75  1.43  0.16  5.74 -99.0  11.8 -99.0                                                                                                  \\n    15 A     0.261 0.389 0.458  0.85  0.08  1.19  1.52 43.79 24.70  1.49  0.12  5.80 -99.0  10.3 -99.0                                                                                                  \\n    30 AB    0.256 0.384 0.455  0.70  0.09  1.19  1.17 43.00 25.11  1.63  0.11  5.76 -99.0  11.6 -99.0                                                                                                  \\n    60 BA    0.271 0.398 0.464  0.50  0.07  1.25  0.75 45.54 23.71  1.73  0.09  5.87 -99.0  12.0 -99.0                                                                                                  \\n   100 B     0.270 0.397 0.462  0.38  0.07  1.31  0.44 45.46 22.81  1.73  0.08  6.01 -99.0  12.1 -99.0                                                                                                  \\n   200 BC    0.260 0.386 0.453  0.05  0.08  1.37  0.24 43.67 22.19  1.66  0.08  6.20 -99.0  12.1 -99.0                                                                                                  \\n \\n'))"
      ]
     },
     "execution_count": 14,
     "metadata": {},
     "output_type": "execute_result"
    }
   ],
   "source": [
    "inputs[0]"
   ]
  },
  {
   "cell_type": "code",
   "execution_count": null,
   "id": "46990971",
   "metadata": {},
   "outputs": [],
   "source": []
  },
  {
   "cell_type": "code",
   "execution_count": null,
   "id": "ef7253a0",
   "metadata": {},
   "outputs": [],
   "source": []
  },
  {
   "cell_type": "code",
   "execution_count": null,
   "id": "be32abe4",
   "metadata": {},
   "outputs": [],
   "source": []
  },
  {
   "cell_type": "code",
   "execution_count": null,
   "id": "fb8c19e7",
   "metadata": {},
   "outputs": [],
   "source": []
  },
  {
   "cell_type": "code",
   "execution_count": null,
   "id": "1e8badf0",
   "metadata": {},
   "outputs": [],
   "source": []
  }
 ],
 "metadata": {
  "kernelspec": {
   "display_name": "Python 3 (ipykernel)",
   "language": "python",
   "name": "python3"
  },
  "language_info": {
   "codemirror_mode": {
    "name": "ipython",
    "version": 3
   },
   "file_extension": ".py",
   "mimetype": "text/x-python",
   "name": "python",
   "nbconvert_exporter": "python",
   "pygments_lexer": "ipython3",
   "version": "3.10.12"
  }
 },
 "nbformat": 4,
 "nbformat_minor": 5
}
